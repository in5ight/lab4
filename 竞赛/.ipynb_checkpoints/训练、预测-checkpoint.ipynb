{
 "cells": [
  {
   "cell_type": "code",
   "execution_count": 1,
   "metadata": {},
   "outputs": [],
   "source": [
    "import pandas as pd\n",
    "import numpy as np"
   ]
  },
  {
   "cell_type": "code",
   "execution_count": 2,
   "metadata": {},
   "outputs": [],
   "source": [
    "from sklearn.model_selection import train_test_split\n",
    "from sklearn.model_selection import StratifiedKFold\n",
    "from sklearn.ensemble import RandomForestClassifier\n",
    "from sklearn.linear_model import LinearRegression\n",
    "from sklearn.metrics import classification_report\n",
    "from sklearn.metrics import roc_auc_score, roc_curve, auc\n",
    "import lightgbm as lgb"
   ]
  },
  {
   "cell_type": "code",
   "execution_count": 3,
   "metadata": {},
   "outputs": [],
   "source": [
    "train_data = pd.read_csv('train_data.csv')\n",
    "test_data = pd.read_csv('test_data.csv')\n",
    "submission = pd.read_csv('test_format1.csv')"
   ]
  },
  {
   "cell_type": "code",
   "execution_count": null,
   "metadata": {},
   "outputs": [],
   "source": [
    "# 构造训练集和测试集\n",
    "def get_train_testDF(train_df,label_df):\n",
    "    skv = StratifiedKFold(n_splits=5, shuffle=True, random_state=42)\n",
    "    trainX = []\n",
    "    trainY = []\n",
    "    testX = []\n",
    "    testY = []\n",
    "    for train_index, test_index in skv.split(X=train_df, y=label_df):\n",
    "        train_x, train_y, test_x, test_y = train_df.iloc[train_index, :], label_df.iloc[train_index], \\\n",
    "                                            train_df.iloc[test_index, :], label_df.iloc[test_index]\n",
    "\n",
    "        trainX.append(train_x)\n",
    "        trainY.append(train_y)\n",
    "        testX.append(test_x)\n",
    "        testY.append(test_y)\n",
    "    return trainX, testX, trainY, testY\n",
    "\n",
    "\n",
    "train_X, train_y = train_data.drop(['label'], axis=1), train_data['label']\n",
    "X_train, X_valid, y_train, y_valid = get_train_testDF(train_X, train_y)"
   ]
  },
  {
   "cell_type": "code",
   "execution_count": 5,
   "metadata": {},
   "outputs": [
    {
     "name": "stdout",
     "output_type": "stream",
     "text": [
      "\n",
      "============================LGB training use Data 1/5============================\n",
      "\n",
      "[LightGBM] [Warning] learning_rate is set=0.1, eta=0.3 will be ignored. Current value: learning_rate=0.1\n",
      "[LightGBM] [Warning] Accuracy may be bad since you didn't explicitly set num_leaves OR 2^max_depth > num_leaves. (num_leaves=31).\n",
      "0.6916857150299154\n",
      "\n",
      "============================LGB training use Data 2/5============================\n",
      "\n",
      "[LightGBM] [Warning] learning_rate is set=0.1, eta=0.3 will be ignored. Current value: learning_rate=0.1\n",
      "[LightGBM] [Warning] Accuracy may be bad since you didn't explicitly set num_leaves OR 2^max_depth > num_leaves. (num_leaves=31).\n",
      "0.6871644227921951\n",
      "\n",
      "============================LGB training use Data 3/5============================\n",
      "\n",
      "[LightGBM] [Warning] learning_rate is set=0.1, eta=0.3 will be ignored. Current value: learning_rate=0.1\n",
      "[LightGBM] [Warning] Accuracy may be bad since you didn't explicitly set num_leaves OR 2^max_depth > num_leaves. (num_leaves=31).\n",
      "0.6820212839587617\n",
      "\n",
      "============================LGB training use Data 4/5============================\n",
      "\n",
      "[LightGBM] [Warning] learning_rate is set=0.1, eta=0.3 will be ignored. Current value: learning_rate=0.1\n",
      "[LightGBM] [Warning] Accuracy may be bad since you didn't explicitly set num_leaves OR 2^max_depth > num_leaves. (num_leaves=31).\n",
      "0.6888987584141993\n",
      "\n",
      "============================LGB training use Data 5/5============================\n",
      "\n",
      "[LightGBM] [Warning] learning_rate is set=0.1, eta=0.3 will be ignored. Current value: learning_rate=0.1\n",
      "[LightGBM] [Warning] Accuracy may be bad since you didn't explicitly set num_leaves OR 2^max_depth > num_leaves. (num_leaves=31).\n",
      "0.6898167761453923\n",
      "               0         0         0         0         0\n",
      "0       0.062964  0.055262  0.076662  0.070292  0.080348\n",
      "1       0.079519  0.080704  0.072297  0.095326  0.072950\n",
      "2       0.074032  0.067403  0.079072  0.075729  0.080681\n",
      "3       0.037418  0.025955  0.023839  0.028919  0.026701\n",
      "4       0.061049  0.060545  0.064591  0.081513  0.064117\n",
      "...          ...       ...       ...       ...       ...\n",
      "261472  0.093082  0.079629  0.063721  0.081008  0.044508\n",
      "261473  0.026290  0.024173  0.027126  0.024437  0.026500\n",
      "261474  0.072373  0.107569  0.083866  0.077123  0.092710\n",
      "261475  0.048860  0.036729  0.035092  0.037373  0.052376\n",
      "261476  0.080703  0.071145  0.081992  0.069771  0.076169\n",
      "\n",
      "[261477 rows x 5 columns]\n"
     ]
    }
   ],
   "source": [
    "# lightgbm模型\n",
    "\n",
    "pred_lgbms = []\n",
    "for i in range(5):\n",
    "    print('\\n============================LGB training use Data {}/5============================\\n'.format(i+1))\n",
    "    model_lgb = lgb.LGBMClassifier(\n",
    "        max_depth=10,\n",
    "        n_estimators=1000,\n",
    "        min_child_weight=200, \n",
    "        colsample_bytree=0.8, \n",
    "        subsample=0.8, \n",
    "        eta=0.3,    \n",
    "        seed=42\n",
    "    )\n",
    "\n",
    "    model_lgb.fit(\n",
    "        X_train[i], \n",
    "        y_train[i],\n",
    "        eval_metric='auc',\n",
    "        eval_set=[(X_train[i], y_train[i]), (X_valid[i], y_valid[i])],\n",
    "        verbose=False,\n",
    "        early_stopping_rounds=10\n",
    "\n",
    "    )\n",
    "\n",
    "    print(model_lgb.best_score_['valid_1']['auc'])\n",
    "\n",
    "    pred = model_lgb.predict_proba(test_data)\n",
    "    pred = pd.DataFrame(pred[:,1])\n",
    "    pred_lgbms.append(pred)\n",
    "pred_lgbms = pd.concat(pred_lgbms, axis=1)\n",
    "print(pred_lgbms)\n",
    "\n",
    "submission['prob'] = pred_lgbms.mean(axis=1)\n",
    "submission.to_csv('submission_lgb.csv', index=False)"
   ]
  },
  {
   "cell_type": "code",
   "execution_count": null,
   "metadata": {},
   "outputs": [],
   "source": []
  }
 ],
 "metadata": {
  "kernelspec": {
   "display_name": "Python 3",
   "language": "python",
   "name": "python3"
  },
  "language_info": {
   "codemirror_mode": {
    "name": "ipython",
    "version": 3
   },
   "file_extension": ".py",
   "mimetype": "text/x-python",
   "name": "python",
   "nbconvert_exporter": "python",
   "pygments_lexer": "ipython3",
   "version": "3.8.3"
  }
 },
 "nbformat": 4,
 "nbformat_minor": 4
}
