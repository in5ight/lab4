{
 "cells": [
  {
   "cell_type": "code",
   "execution_count": 1,
   "metadata": {},
   "outputs": [],
   "source": [
    "from pyspark import SparkContext\n",
    "from pyspark.sql import SparkSession"
   ]
  },
  {
   "cell_type": "code",
   "execution_count": 2,
   "metadata": {},
   "outputs": [],
   "source": [
    "spark = SparkSession\\\n",
    "        .builder\\\n",
    "        .appName(\"MLlib\")\\\n",
    "        .getOrCreate()"
   ]
  },
  {
   "cell_type": "code",
   "execution_count": 3,
   "metadata": {},
   "outputs": [],
   "source": [
    "user_log = spark.read.csv(r\"file:///home/lzt/Documents/lab4_data/input/user_log_format1.csv\", encoding='utf8', header=True, inferSchema=True)"
   ]
  },
  {
   "cell_type": "code",
   "execution_count": 4,
   "metadata": {},
   "outputs": [],
   "source": [
    "user_info = spark.read.csv(r\"file:///home/lzt/Documents/lab4_data/input/user_info_format1.csv\", encoding='utf8', header=True, inferSchema=True)"
   ]
  },
  {
   "cell_type": "code",
   "execution_count": 5,
   "metadata": {},
   "outputs": [],
   "source": [
    "df_train = spark.read.csv(r\"file:///home/lzt/Documents/lab4_data/input/train_format1.csv\", encoding='utf8', header=True, inferSchema=True)"
   ]
  },
  {
   "cell_type": "code",
   "execution_count": 6,
   "metadata": {},
   "outputs": [
    {
     "name": "stdout",
     "output_type": "stream",
     "text": [
      "+-------+-----------+-----+---------+------+\n",
      "|user_id|merchant_id|label|age_range|gender|\n",
      "+-------+-----------+-----+---------+------+\n",
      "|  34176|       3906|    0|        6|     0|\n",
      "|  34176|        121|    0|        6|     0|\n",
      "|  34176|       4356|    1|        6|     0|\n",
      "|  34176|       2217|    0|        6|     0|\n",
      "| 230784|       4818|    0|        0|     0|\n",
      "+-------+-----------+-----+---------+------+\n",
      "\n"
     ]
    }
   ],
   "source": [
    "# 添加年龄、性别\n",
    "df_train = df_train.join(user_info, [\"user_id\"], \"left\")\n",
    "df_train.limit(5).show()"
   ]
  },
  {
   "cell_type": "code",
   "execution_count": 7,
   "metadata": {},
   "outputs": [
    {
     "name": "stdout",
     "output_type": "stream",
     "text": [
      "+-------+-----------+-----+---------+------+---------+\n",
      "|user_id|merchant_id|label|age_range|gender|log_count|\n",
      "+-------+-----------+-----+---------+------+---------+\n",
      "|    464|       4718|    0|        6|     0|        1|\n",
      "|    867|       3152|    0|        3|     0|        1|\n",
      "|   1882|       4377|    0|        6|     1|        1|\n",
      "|   2450|       2760|    0|        0|     0|        2|\n",
      "|   2766|       3885|    0|        4|     1|        1|\n",
      "+-------+-----------+-----+---------+------+---------+\n",
      "\n"
     ]
    }
   ],
   "source": [
    "# log_count为某用户在某店加入购物车、购买、收藏的总数\n",
    "user_log_exceptClick = user_log[user_log[\"action_type\"] != 0]\n",
    "log_count = user_log_exceptClick.groupby([\"user_id\", \"seller_id\"]).count()\n",
    "log_count = log_count.withColumnRenamed(\"seller_id\", \"merchant_id\").withColumnRenamed(\"count\", \"log_count\")\n",
    "df_train = df_train.join(log_count, [\"user_id\", \"merchant_id\"],\"left\")\n",
    "df_train.limit(5).show()"
   ]
  },
  {
   "cell_type": "code",
   "execution_count": 8,
   "metadata": {},
   "outputs": [
    {
     "name": "stdout",
     "output_type": "stream",
     "text": [
      "+-------+-----------+-----+---------+------+---------+----------+\n",
      "|user_id|merchant_id|label|age_range|gender|log_count|cart_count|\n",
      "+-------+-----------+-----+---------+------+---------+----------+\n",
      "|    464|       4718|    0|        6|     0|        1|      null|\n",
      "|    867|       3152|    0|        3|     0|        1|      null|\n",
      "|   1882|       4377|    0|        6|     1|        1|      null|\n",
      "|   2450|       2760|    0|        0|     0|        2|      null|\n",
      "|   2766|       3885|    0|        4|     1|        1|      null|\n",
      "+-------+-----------+-----+---------+------+---------+----------+\n",
      "\n"
     ]
    }
   ],
   "source": [
    "# cart_count为某用户在某店加入购物车的总数\n",
    "user_log_cart = user_log[user_log[\"action_type\"] == 1]\n",
    "cart_count = user_log_cart.groupby([\"user_id\", \"seller_id\"]).count()\n",
    "cart_count = cart_count.withColumnRenamed(\"seller_id\", \"merchant_id\").withColumnRenamed(\"count\", \"cart_count\")\n",
    "df_train = df_train.join(cart_count, [\"user_id\", \"merchant_id\"], \"left\")\n",
    "df_train.limit(5).show()"
   ]
  },
  {
   "cell_type": "code",
   "execution_count": 9,
   "metadata": {},
   "outputs": [
    {
     "name": "stdout",
     "output_type": "stream",
     "text": [
      "+-------+-----------+-----+---------+------+---------+----------+---------+\n",
      "|user_id|merchant_id|label|age_range|gender|log_count|cart_count|buy_count|\n",
      "+-------+-----------+-----+---------+------+---------+----------+---------+\n",
      "|    464|       4718|    0|        6|     0|        1|      null|        1|\n",
      "|    867|       3152|    0|        3|     0|        1|      null|        1|\n",
      "|   1882|       4377|    0|        6|     1|        1|      null|        1|\n",
      "|   2450|       2760|    0|        0|     0|        2|      null|        2|\n",
      "|   2766|       3885|    0|        4|     1|        1|      null|        1|\n",
      "+-------+-----------+-----+---------+------+---------+----------+---------+\n",
      "\n"
     ]
    }
   ],
   "source": [
    "# buy_count为某用户在某店购买的总数\n",
    "user_log_buy = user_log[user_log[\"action_type\"] == 2]\n",
    "buy_count = user_log_buy.groupby([\"user_id\", \"seller_id\"]).count()\n",
    "buy_count = buy_count.withColumnRenamed(\"seller_id\", \"merchant_id\").withColumnRenamed(\"count\", \"buy_count\")\n",
    "df_train = df_train.join(buy_count, [\"user_id\", \"merchant_id\"], \"left\")\n",
    "df_train.limit(5).show()"
   ]
  },
  {
   "cell_type": "code",
   "execution_count": 10,
   "metadata": {},
   "outputs": [
    {
     "name": "stdout",
     "output_type": "stream",
     "text": [
      "+-------+-----------+-----+---------+------+---------+----------+---------+-------------+\n",
      "|user_id|merchant_id|label|age_range|gender|log_count|cart_count|buy_count|collect_count|\n",
      "+-------+-----------+-----+---------+------+---------+----------+---------+-------------+\n",
      "|    464|       4718|    0|        6|     0|        1|      null|        1|         null|\n",
      "|    867|       3152|    0|        3|     0|        1|      null|        1|         null|\n",
      "|   1882|       4377|    0|        6|     1|        1|      null|        1|         null|\n",
      "|   2450|       2760|    0|        0|     0|        2|      null|        2|         null|\n",
      "|   2766|       3885|    0|        4|     1|        1|      null|        1|         null|\n",
      "+-------+-----------+-----+---------+------+---------+----------+---------+-------------+\n",
      "\n"
     ]
    }
   ],
   "source": [
    "# collect_count为某用户在某店收藏的总数\n",
    "user_log_collect = user_log[user_log[\"action_type\"] == 3]\n",
    "collect_count = user_log_collect.groupby([\"user_id\", \"seller_id\"]).count()\n",
    "collect_count = collect_count.withColumnRenamed(\"seller_id\", \"merchant_id\").withColumnRenamed(\"count\", \"collect_count\")\n",
    "df_train = df_train.join(collect_count, [\"user_id\", \"merchant_id\"], \"left\")\n",
    "df_train.limit(5).show()"
   ]
  },
  {
   "cell_type": "code",
   "execution_count": 11,
   "metadata": {},
   "outputs": [
    {
     "name": "stdout",
     "output_type": "stream",
     "text": [
      "+-------+-----------+-----+---------+------+---------+----------+---------+-------------+\n",
      "|user_id|merchant_id|label|age_range|gender|log_count|cart_count|buy_count|collect_count|\n",
      "+-------+-----------+-----+---------+------+---------+----------+---------+-------------+\n",
      "|    464|       4718|    0|        6|     0|        1|         0|        1|            0|\n",
      "|    867|       3152|    0|        3|     0|        1|         0|        1|            0|\n",
      "|   1882|       4377|    0|        6|     1|        1|         0|        1|            0|\n",
      "|   2450|       2760|    0|        0|     0|        2|         0|        2|            0|\n",
      "|   2766|       3885|    0|        4|     1|        1|         0|        1|            0|\n",
      "+-------+-----------+-----+---------+------+---------+----------+---------+-------------+\n",
      "\n"
     ]
    }
   ],
   "source": [
    "df_train = df_train.fillna(0)\n",
    "df_train.limit(5).show()"
   ]
  },
  {
   "cell_type": "code",
   "execution_count": 12,
   "metadata": {},
   "outputs": [],
   "source": [
    "from pyspark.mllib.regression import LabeledPoint\n",
    "from pyspark.mllib.linalg import Vectors\n",
    "from pyspark.mllib.classification import LogisticRegressionWithLBFGS\n",
    "from pyspark.mllib.evaluation import BinaryClassificationMetrics\n",
    "from pyspark.mllib.util import MLUtils"
   ]
  },
  {
   "cell_type": "code",
   "execution_count": 13,
   "metadata": {},
   "outputs": [
    {
     "data": {
      "text/plain": [
       "PythonRDD[268] at RDD at PythonRDD.scala:53"
      ]
     },
     "execution_count": 13,
     "metadata": {},
     "output_type": "execute_result"
    }
   ],
   "source": [
    "# 将数据转化为RDD\n",
    "train_rdd = df_train.rdd\n",
    "train_rdd = train_rdd.map(lambda x: LabeledPoint(x[2], Vectors.dense(x[3:])))\n",
    "training, test = train_rdd.randomSplit([0.7, 0.3], seed=1)\n",
    "training.cache()"
   ]
  },
  {
   "cell_type": "code",
   "execution_count": 14,
   "metadata": {},
   "outputs": [
    {
     "name": "stdout",
     "output_type": "stream",
     "text": [
      "Area under PR = 0.09310795813683474\n",
      "Area under ROC = 0.50004247074441\n",
      "Test Error = 0.061263329029790085\n"
     ]
    }
   ],
   "source": [
    "# 逻辑回归，参考官方代码\n",
    "# Run training algorithm to build the model\n",
    "lr_model = LogisticRegressionWithLBFGS.train(training)\n",
    "\n",
    "# Compute raw scores on the test set\n",
    "predictionAndLabels1 = test.map(lambda lp: (float(lr_model.predict(lp.features)), lp.label))\n",
    "\n",
    "# Instantiate metrics object\n",
    "metrics = BinaryClassificationMetrics(predictionAndLabels1)\n",
    "\n",
    "# Area under precision-recall curve\n",
    "print(\"Area under PR = %s\" % metrics.areaUnderPR)\n",
    "\n",
    "# Area under ROC curve\n",
    "print(\"Area under ROC = %s\" % metrics.areaUnderROC)\n",
    "\n",
    "# Evaluating the model on test data\n",
    "test_error = predictionAndLabels1.filter(lambda lp: lp[0] != lp[1]).count() / float(test.count())\n",
    "print(\"Test Error = \" + str(test_error))"
   ]
  },
  {
   "cell_type": "code",
   "execution_count": 15,
   "metadata": {},
   "outputs": [
    {
     "name": "stdout",
     "output_type": "stream",
     "text": [
      "Test Error = 0.061205948453115284\n"
     ]
    }
   ],
   "source": [
    "# SVM\n",
    "# Build the model\n",
    "from pyspark.mllib.classification import SVMWithSGD, SVMModel\n",
    "svm_model = SVMWithSGD.train(training, iterations=100)\n",
    "\n",
    "# Evaluating the model on test data\n",
    "predictionAndLabels2 = test.map(lambda lp: (lp.label, svm_model.predict(lp.features)))\n",
    "test_error = predictionAndLabels2.filter(lambda lp: lp[0] != lp[1]).count() / float(test.count())\n",
    "print(\"Test Error = \" + str(test_error))"
   ]
  },
  {
   "cell_type": "code",
   "execution_count": 16,
   "metadata": {},
   "outputs": [
    {
     "name": "stdout",
     "output_type": "stream",
     "text": [
      "+-------+-----------+----+---------+------+---------+----------+---------+-------------+\n",
      "|user_id|merchant_id|prob|age_range|gender|log_count|cart_count|buy_count|collect_count|\n",
      "+-------+-----------+----+---------+------+---------+----------+---------+-------------+\n",
      "|    565|       1970|null|        5|     0|        1|         0|        1|            0|\n",
      "|    596|       3936|null|        2|     0|        2|         0|        1|            1|\n",
      "|    919|       4044|null|        3|     0|        3|         0|        2|            1|\n",
      "|   2026|       1557|null|        7|     1|        2|         0|        1|            1|\n",
      "|   2491|       2991|null|        0|     0|        1|         0|        1|            0|\n",
      "+-------+-----------+----+---------+------+---------+----------+---------+-------------+\n",
      "\n"
     ]
    }
   ],
   "source": [
    "# 下面在测试数据上做预测，先对测试数据计算特征\n",
    "df_test = spark.read.csv(r\"file:///home/lzt/Documents/lab4_data/input/test_format1.csv\", encoding='utf8', header=True, inferSchema=True) \n",
    "\n",
    "# 添加年龄、性别\n",
    "df_test = df_test.join(user_info, [\"user_id\"], \"left\")\n",
    "\n",
    "# log_count为某用户在某店加入购物车、购买、收藏的总数\n",
    "df_test = df_test.join(log_count, [\"user_id\", \"merchant_id\"],\"left\")\n",
    "\n",
    "# cart_count为某用户在某店加入购物车的总数\n",
    "df_test = df_test.join(cart_count, [\"user_id\", \"merchant_id\"], \"left\")\n",
    "\n",
    "# buy_count为某用户在某店购买的总数\n",
    "df_test = df_test.join(buy_count, [\"user_id\", \"merchant_id\"], \"left\")\n",
    "\n",
    "# collect_count为某用户在某店收藏的总数\n",
    "df_test = df_test.join(collect_count, [\"user_id\", \"merchant_id\"], \"left\")\n",
    "\n",
    "df_test = df_test.fillna(0)\n",
    "df_test.limit(5).show()"
   ]
  },
  {
   "cell_type": "code",
   "execution_count": 97,
   "metadata": {
    "scrolled": true
   },
   "outputs": [
    {
     "data": {
      "text/plain": [
       "[(565, 1970, DenseVector([5.0, 0.0, 1.0, 0.0, 1.0, 0.0])),\n",
       " (596, 3936, DenseVector([2.0, 0.0, 2.0, 0.0, 1.0, 1.0])),\n",
       " (919, 4044, DenseVector([3.0, 0.0, 3.0, 0.0, 2.0, 1.0])),\n",
       " (2026, 1557, DenseVector([7.0, 1.0, 2.0, 0.0, 1.0, 1.0])),\n",
       " (2491, 2991, DenseVector([0.0, 0.0, 1.0, 0.0, 1.0, 0.0])),\n",
       " (2544, 191, DenseVector([2.0, 0.0, 3.0, 0.0, 2.0, 1.0])),\n",
       " (2604, 4618, DenseVector([3.0, 0.0, 1.0, 0.0, 1.0, 0.0])),\n",
       " (3002, 1359, DenseVector([0.0, 0.0, 2.0, 0.0, 2.0, 0.0])),\n",
       " (3776, 2482, DenseVector([2.0, 0.0, 3.0, 0.0, 1.0, 2.0])),\n",
       " (3802, 10, DenseVector([5.0, 0.0, 1.0, 0.0, 1.0, 0.0]))]"
      ]
     },
     "execution_count": 97,
     "metadata": {},
     "output_type": "execute_result"
    }
   ],
   "source": [
    "# 将数据转化为RDD\n",
    "test_rdd = df_test.rdd\n",
    "# test_rdd = test_rdd.map(lambda x: LabeledPoint(0.5, Vectors.dense(x[3:])))\n",
    "test_rdd = test_rdd.map(lambda x: (x[0], x[1], Vectors.dense(x[3:])))\n",
    "test_rdd.take(10)"
   ]
  },
  {
   "cell_type": "code",
   "execution_count": 100,
   "metadata": {},
   "outputs": [],
   "source": [
    "lr_res = test_rdd.map(lambda x: (x[0], x[1], float(lr_model.predict(x[2]))))\n",
    "lr_res_df = lr_res.toDF()\n",
    "lr_res_df.coalesce(1).write.options(header=\"true\").csv(\"file:///home/lzt/Documents/mllib/lr_res_df\")"
   ]
  },
  {
   "cell_type": "code",
   "execution_count": 101,
   "metadata": {},
   "outputs": [],
   "source": [
    "svm_res = test_rdd.map(lambda x: (x[0], x[1], float(svm_model.predict(x[2]))))\n",
    "svm_res_df = svm_res.toDF()\n",
    "svm_res_df.coalesce(1).write.options(header=\"true\").csv(\"file:///home/lzt/Documents/mllib/svm_res_df\")"
   ]
  },
  {
   "cell_type": "code",
   "execution_count": null,
   "metadata": {},
   "outputs": [],
   "source": []
  }
 ],
 "metadata": {
  "kernelspec": {
   "display_name": "Python 3",
   "language": "python",
   "name": "python3"
  },
  "language_info": {
   "codemirror_mode": {
    "name": "ipython",
    "version": 3
   },
   "file_extension": ".py",
   "mimetype": "text/x-python",
   "name": "python",
   "nbconvert_exporter": "python",
   "pygments_lexer": "ipython3",
   "version": "3.6.9"
  }
 },
 "nbformat": 4,
 "nbformat_minor": 4
}